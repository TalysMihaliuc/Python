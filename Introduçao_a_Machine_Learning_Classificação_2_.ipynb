{
  "nbformat": 4,
  "nbformat_minor": 0,
  "metadata": {
    "colab": {
      "provenance": [],
      "authorship_tag": "ABX9TyPXOXujv2GlNQuzGhZgATUw",
      "include_colab_link": true
    },
    "kernelspec": {
      "name": "python3",
      "display_name": "Python 3"
    },
    "language_info": {
      "name": "python"
    }
  },
  "cells": [
    {
      "cell_type": "markdown",
      "metadata": {
        "id": "view-in-github",
        "colab_type": "text"
      },
      "source": [
        "<a href=\"https://colab.research.google.com/github/TalysMihaliuc/Python/blob/main/Introdu%C3%A7ao_a_Machine_Learning_Classifica%C3%A7%C3%A3o_2_.ipynb\" target=\"_parent\"><img src=\"https://colab.research.google.com/assets/colab-badge.svg\" alt=\"Open In Colab\"/></a>"
      ]
    },
    {
      "cell_type": "code",
      "execution_count": 1,
      "metadata": {
        "id": "JYDoRVwOWEEU"
      },
      "outputs": [],
      "source": [
        "import pandas as pd\n",
        "\n",
        "uri = 'https://gist.githubusercontent.com/guilhermesilveira/2d2efa37d66b6c84a722ea627a897ced/raw/10968b997d885cbded1c92938c7a9912ba41c615/tracking.csv'\n",
        "dados= pd.read_csv(uri)"
      ]
    },
    {
      "cell_type": "code",
      "source": [
        "mapa = { \n",
        "    \"home\" : \"principal\",\n",
        "    \"how_it_works\" : \"como_funciona\",\n",
        "    \"contact\" : \"contato\",\n",
        "    \"bought\" : \"comprou\"\n",
        "}\n",
        "dados = dados.rename(columns = mapa)"
      ],
      "metadata": {
        "id": "TP6VY6C6cZaG"
      },
      "execution_count": 2,
      "outputs": []
    },
    {
      "cell_type": "code",
      "source": [
        "x= dados[[\"principal\",\"como_funciona\",\"contato\"]]\n",
        "y= dados[\"comprou\"]"
      ],
      "metadata": {
        "id": "Uej5DEr2ceD4"
      },
      "execution_count": 3,
      "outputs": []
    },
    {
      "cell_type": "markdown",
      "source": [
        "# Estamos usando a biblioteca de treino e teste"
      ],
      "metadata": {
        "id": "9D90EFcbdd1z"
      }
    },
    {
      "cell_type": "code",
      "source": [
        "#importando bibliotecas\n",
        "from sklearn.model_selection import train_test_split\n",
        "from sklearn.svm import LinearSVC\n",
        "from sklearn.metrics  import accuracy_score\n",
        "\n",
        "#Criando a semante para fixar os testes\n",
        "SEED = 20\n",
        "\n",
        "#Separando dados de treino e dados de teste.\n",
        "treino_x, teste_x , treino_y, teste_y = train_test_split(x, y, random_state = SEED, test_size= 0.25)\n",
        "print(\"Treinamos com %d elementos e testaremos com %d elementos\" % (len(treino_x), len(teste_x)))\n",
        "#Criando Modelo\n",
        "modelo = LinearSVC()\n",
        "modelo.fit(treino_x, treino_y)\n",
        "previsoes = modelo.predict(teste_x)\n",
        "\n",
        "#Calculando taxa de Acerto\n",
        "acuracia = accuracy_score(teste_y, previsoes) * 100\n",
        "print(\"A acurácia foi de %.2f\" % acuracia)\n",
        "\n",
        "\n"
      ],
      "metadata": {
        "colab": {
          "base_uri": "https://localhost:8080/"
        },
        "id": "-pdE67H1Y5zU",
        "outputId": "aea9f4ae-6a7c-4c01-fed5-20d305175c69"
      },
      "execution_count": 9,
      "outputs": [
        {
          "output_type": "stream",
          "name": "stdout",
          "text": [
            "Treinamos com 74 elementos e testaremos com 25 elementos\n",
            "A acurácia foi de 96.00\n"
          ]
        }
      ]
    },
    {
      "cell_type": "code",
      "source": [
        "treino_y.value_counts()"
      ],
      "metadata": {
        "colab": {
          "base_uri": "https://localhost:8080/"
        },
        "id": "NDF1rTRpeCAi",
        "outputId": "97e6ffbc-c27f-4bcd-acdd-c97e8cafe3e9"
      },
      "execution_count": 11,
      "outputs": [
        {
          "output_type": "execute_result",
          "data": {
            "text/plain": [
              "0    47\n",
              "1    27\n",
              "Name: comprou, dtype: int64"
            ]
          },
          "metadata": {},
          "execution_count": 11
        }
      ]
    },
    {
      "cell_type": "code",
      "source": [
        "teste_y.value_counts()"
      ],
      "metadata": {
        "colab": {
          "base_uri": "https://localhost:8080/"
        },
        "id": "IIj7r325eFkP",
        "outputId": "6fc67b0d-d47a-444c-b7dc-f7b58e9d871b"
      },
      "execution_count": 12,
      "outputs": [
        {
          "output_type": "execute_result",
          "data": {
            "text/plain": [
              "0    19\n",
              "1     6\n",
              "Name: comprou, dtype: int64"
            ]
          },
          "metadata": {},
          "execution_count": 12
        }
      ]
    },
    {
      "cell_type": "code",
      "source": [
        "#A divisão de treino teste deve estar igual, a proporção.\n",
        "\n",
        "#usa o stratify\n",
        "\n",
        "#importando bibliotecas\n",
        "from sklearn.model_selection import train_test_split\n",
        "from sklearn.svm import LinearSVC\n",
        "from sklearn.metrics  import accuracy_score\n",
        "\n",
        "#Criando a semante para fixar os testes\n",
        "SEED = 20\n",
        "\n",
        "#Separando dados de treino e dados de teste.\n",
        "treino_x, teste_x , treino_y, teste_y = train_test_split(x, y, random_state = SEED, test_size= 0.25, stratify=y)\n",
        "print(\"Treinamos com %d elementos e testaremos com %d elementos\" % (len(treino_x), len(teste_x)))\n",
        "#Criando Modelo\n",
        "modelo = LinearSVC()\n",
        "modelo.fit(treino_x, treino_y)\n",
        "previsoes = modelo.predict(teste_x)\n",
        "\n",
        "#Calculando taxa de Acerto\n",
        "acuracia = accuracy_score(teste_y, previsoes) * 100\n",
        "print(\"A acurácia foi de %.2f\" % acuracia)\n"
      ],
      "metadata": {
        "colab": {
          "base_uri": "https://localhost:8080/"
        },
        "id": "oNZN6MsmeMgS",
        "outputId": "d8c0f7e5-bdc4-4ff2-f830-f828de69e767"
      },
      "execution_count": 13,
      "outputs": [
        {
          "output_type": "stream",
          "name": "stdout",
          "text": [
            "Treinamos com 74 elementos e testaremos com 25 elementos\n",
            "A acurácia foi de 96.00\n"
          ]
        }
      ]
    },
    {
      "cell_type": "code",
      "source": [
        "treino_y.value_counts()"
      ],
      "metadata": {
        "colab": {
          "base_uri": "https://localhost:8080/"
        },
        "id": "R166Rl1req7B",
        "outputId": "837558ef-0bec-4380-b7f6-22a8095ffe9c"
      },
      "execution_count": 14,
      "outputs": [
        {
          "output_type": "execute_result",
          "data": {
            "text/plain": [
              "0    49\n",
              "1    25\n",
              "Name: comprou, dtype: int64"
            ]
          },
          "metadata": {},
          "execution_count": 14
        }
      ]
    },
    {
      "cell_type": "code",
      "source": [
        "teste_y.value_counts()"
      ],
      "metadata": {
        "colab": {
          "base_uri": "https://localhost:8080/"
        },
        "id": "MTbe_v85et9x",
        "outputId": "a84c6726-0d01-47c1-918d-e49ad816ab76"
      },
      "execution_count": 15,
      "outputs": [
        {
          "output_type": "execute_result",
          "data": {
            "text/plain": [
              "0    17\n",
              "1     8\n",
              "Name: comprou, dtype: int64"
            ]
          },
          "metadata": {},
          "execution_count": 15
        }
      ]
    }
  ]
}