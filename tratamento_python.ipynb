{
 "cells": [
  {
   "cell_type": "code",
   "execution_count": 295,
   "id": "65a3af75",
   "metadata": {},
   "outputs": [],
   "source": [
    "#ler arquivos\n",
    "import os\n",
    "import glob\n",
    "import pandas as pd\n",
    "\n",
    "\n",
    "pandas.set_option('display.max_rows', None)\n",
    "\n",
    "# Path\n",
    "path = r'seuArquivo'\n",
    "df = pd.DataFrame()\n",
    "\n",
    "# Função\n",
    "for i in glob.glob(os.path.join(path,\"*.xlsx\")):\n",
    "    \n",
    "    arquivo = pd.read_excel(i,  header=None)\n",
    "    df = df.append(arquivo, ignore_index=True)  "
   ]
  },
  {
   "cell_type": "code",
   "execution_count": 296,
   "id": "9b0417ba",
   "metadata": {},
   "outputs": [
    {
     "data": {
      "text/plain": [
       "(36199, 23)"
      ]
     },
     "execution_count": 296,
     "metadata": {},
     "output_type": "execute_result"
    }
   ],
   "source": [
    "#Definindo cabeçalhos\n",
    "lista = list(df.loc[12])\n",
    "df.columns = lista\n",
    "#Total de linhas do DF\n",
    "df.shape"
   ]
  },
  {
   "cell_type": "code",
   "execution_count": 297,
   "id": "26c900e5",
   "metadata": {},
   "outputs": [
    {
     "data": {
      "text/plain": [
       "array(['DATA', 'CONTROLES', nan, 'CNPJ', nan, nan, 'RAZÃO SOCIAL', nan,\n",
       "       nan, 'CNPJ MATRIZ', nan, 'RAZÃO SOCIAL MATRIZ', nan, 'MUNICIPIO',\n",
       "       nan, 'COD. ITEM', nan, 'DESCRIÇÃO DO ITEM', nan, nan, 'UDM', nan,\n",
       "       'SALDO'], dtype=object)"
      ]
     },
     "execution_count": 297,
     "metadata": {},
     "output_type": "execute_result"
    }
   ],
   "source": [
    "#Lista das nome das colunas do DF\n",
    "df.columns.values"
   ]
  },
  {
   "cell_type": "code",
   "execution_count": 298,
   "id": "d8d49858",
   "metadata": {},
   "outputs": [],
   "source": [
    "#Fatiando o data frame apenas com colunas não vazias\n",
    "df = df[['DATA', 'CONTROLES', 'CNPJ','RAZÃO SOCIAL','CNPJ MATRIZ','RAZÃO SOCIAL MATRIZ', 'MUNICIPIO','COD. ITEM','DESCRIÇÃO DO ITEM','UDM','SALDO']]"
   ]
  },
  {
   "cell_type": "code",
   "execution_count": 299,
   "id": "61816de7",
   "metadata": {},
   "outputs": [],
   "source": [
    "#Remove todas as Linhas onde a DATA for vazia\n",
    "df2 = df.dropna(subset = [\"DATA\"]).reset_index(drop=True)"
   ]
  },
  {
   "cell_type": "code",
   "execution_count": 300,
   "id": "c08b69ea",
   "metadata": {},
   "outputs": [
    {
     "data": {
      "text/plain": [
       "(35918, 11)"
      ]
     },
     "execution_count": 300,
     "metadata": {},
     "output_type": "execute_result"
    }
   ],
   "source": [
    "#Quantidade Total de linhas\n",
    "df2.shape"
   ]
  },
  {
   "cell_type": "code",
   "execution_count": 301,
   "id": "b0221a4e",
   "metadata": {},
   "outputs": [],
   "source": [
    "#Criando coluna Filial\n",
    "df2['FILIAL'] = \"\""
   ]
  },
  {
   "cell_type": "code",
   "execution_count": 302,
   "id": "f091fd23",
   "metadata": {},
   "outputs": [],
   "source": [
    "#Colocar número da Filial na coluna\n",
    "for i in df2.index:\n",
    "    t = str(df2['DATA'][i])\n",
    "    if 'UNIDADE OPERACIONAL:' in t:\n",
    "        df2['FILIAL'][i] = t\n"
   ]
  },
  {
   "cell_type": "code",
   "execution_count": 303,
   "id": "5629f934",
   "metadata": {},
   "outputs": [],
   "source": [
    "#Preencher vazias na Filial\n",
    "for i in df2.index:\n",
    "    t = str(df2['FILIAL'][i])\n",
    "    if t != \"\":\n",
    "        a = t\n",
    "    else:\n",
    "        df2['FILIAL'][i] = a\n",
    "   \n",
    "df2.head(5)\n",
    "\n",
    "#Dropar linhas com valores nulos.\n",
    "df2 = df2.dropna(subset = [\"CONTROLES\"]).reset_index(drop=True)\n",
    "\n",
    "#Filtra linhas que não contenha a palavra data.\n",
    "df2 = df2[df2['DATA'] != 'DATA'].reset_index(drop=True)"
   ]
  },
  {
   "cell_type": "code",
   "execution_count": 304,
   "id": "8647f41a",
   "metadata": {},
   "outputs": [
    {
     "data": {
      "text/plain": [
       "(35596, 12)"
      ]
     },
     "execution_count": 304,
     "metadata": {},
     "output_type": "execute_result"
    }
   ],
   "source": [
    "df2.shape"
   ]
  },
  {
   "cell_type": "code",
   "execution_count": 305,
   "id": "03285eed",
   "metadata": {},
   "outputs": [],
   "source": [
    "df2.to_excel('comodato.xlsx', index=False) "
   ]
  }
 ],
 "metadata": {
  "kernelspec": {
   "display_name": "Python 3 (ipykernel)",
   "language": "python",
   "name": "python3"
  },
  "language_info": {
   "codemirror_mode": {
    "name": "ipython",
    "version": 3
   },
   "file_extension": ".py",
   "mimetype": "text/x-python",
   "name": "python",
   "nbconvert_exporter": "python",
   "pygments_lexer": "ipython3",
   "version": "3.9.7"
  }
 },
 "nbformat": 4,
 "nbformat_minor": 5
}
